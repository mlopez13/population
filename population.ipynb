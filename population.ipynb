{
 "cells": [
  {
   "cell_type": "markdown",
   "metadata": {},
   "source": [
    "# Analysis of population and immigration in Catalonia.\n",
    "Manel Lopez Melia."
   ]
  },
  {
   "cell_type": "markdown",
   "metadata": {},
   "source": [
    "The aim of this project is to study the relation between the shape of the population pyramids and the immigration rate of different Catalan cities.\n",
    "\n",
    "All datasets in this work can be downloaded at https://www.idescat.cat/serveis/consultes/."
   ]
  },
  {
   "cell_type": "markdown",
   "metadata": {},
   "source": [
    "The packages that will be used are:"
   ]
  },
  {
   "cell_type": "code",
   "execution_count": 1,
   "metadata": {},
   "outputs": [],
   "source": [
    "%matplotlib inline\n",
    "import numpy as np\n",
    "import pandas as pd\n",
    "import matplotlib.pyplot as plt"
   ]
  },
  {
   "cell_type": "markdown",
   "metadata": {},
   "source": [
    "First let's print the first lines of the first dataset: population of each town in one year bins."
   ]
  },
  {
   "cell_type": "code",
   "execution_count": 2,
   "metadata": {},
   "outputs": [
    {
     "name": "stdout",
     "output_type": "stream",
     "text": [
      "Poblaci� segons sexe i edat any a any;;;;;;\r",
      "\r\n",
      "Distribuci� per municipis. Any 2018.;;;;;;\r",
      "\r\n",
      ";;;;;;\r",
      "\r\n",
      "Any;Codi;Municipi;Edats;Homes;Dones;Total\r",
      "\r\n",
      "2018;250019; Abella de la Conca; De 0 anys;0;0;0\r",
      "\r\n",
      "2018;250019; Abella de la Conca; D'1 any;0;0;0\r",
      "\r\n",
      "2018;250019; Abella de la Conca; De 2 anys;0;1;1\r",
      "\r\n",
      "2018;250019; Abella de la Conca; De 3 anys;1;1;2\r",
      "\r\n",
      "2018;250019; Abella de la Conca; De 4 anys;0;0;0\r",
      "\r\n",
      "2018;250019; Abella de la Conca; De 5 anys;3;0;3\r",
      "\r\n"
     ]
    }
   ],
   "source": [
    "!head 'p2018_municipis_any_any.csv'"
   ]
  },
  {
   "cell_type": "markdown",
   "metadata": {},
   "source": [
    "The first three lines can be omitted (skiprows=3) and the 'Any' (year) and 'Codi' (code) columns can be dropped too (usecols=columns). Notice that the separation is not ',', but ';'. Also, the separator for thousands is '.'.\n",
    "\n",
    "As there are accents and other special characters in this dataset, encoding 'latin1' is used to read it.\n",
    "\n",
    "Finally, the columns 'Municipi' (town) and 'Edats' (ages) are set as indices and the values of the rest of columns are changed from string type to float."
   ]
  },
  {
   "cell_type": "code",
   "execution_count": 3,
   "metadata": {},
   "outputs": [],
   "source": [
    "filename = 'p2018_municipis_any_any.csv'\n",
    "indices = ['Municipi', 'Edats']\n",
    "columns = ['Homes', 'Dones', 'Total']\n",
    "population_1yr = pd.read_csv(filename, skiprows=3, sep=';', thousands='.', encoding='latin1', usecols=indices+columns)\n",
    "\n",
    "population_1yr = population_1yr.set_index(indices)\n",
    "\n",
    "population_1yr[['Homes', 'Dones', 'Total']] = population_1yr[['Homes', 'Dones', 'Total']].apply(pd.to_numeric)"
   ]
  },
  {
   "cell_type": "markdown",
   "metadata": {},
   "source": [
    "A sample of this dataset can be obtained easily:"
   ]
  },
  {
   "cell_type": "code",
   "execution_count": 4,
   "metadata": {},
   "outputs": [
    {
     "data": {
      "text/html": [
       "<div>\n",
       "<style scoped>\n",
       "    .dataframe tbody tr th:only-of-type {\n",
       "        vertical-align: middle;\n",
       "    }\n",
       "\n",
       "    .dataframe tbody tr th {\n",
       "        vertical-align: top;\n",
       "    }\n",
       "\n",
       "    .dataframe thead th {\n",
       "        text-align: right;\n",
       "    }\n",
       "</style>\n",
       "<table border=\"1\" class=\"dataframe\">\n",
       "  <thead>\n",
       "    <tr style=\"text-align: right;\">\n",
       "      <th></th>\n",
       "      <th></th>\n",
       "      <th>Homes</th>\n",
       "      <th>Dones</th>\n",
       "      <th>Total</th>\n",
       "    </tr>\n",
       "    <tr>\n",
       "      <th>Municipi</th>\n",
       "      <th>Edats</th>\n",
       "      <th></th>\n",
       "      <th></th>\n",
       "      <th></th>\n",
       "    </tr>\n",
       "  </thead>\n",
       "  <tbody>\n",
       "    <tr>\n",
       "      <th>Reus</th>\n",
       "      <th>De 75 anys</th>\n",
       "      <td>316.0</td>\n",
       "      <td>348.0</td>\n",
       "      <td>664.0</td>\n",
       "    </tr>\n",
       "    <tr>\n",
       "      <th>Sant Guim de la Plana</th>\n",
       "      <th>De 12 anys</th>\n",
       "      <td>0.0</td>\n",
       "      <td>0.0</td>\n",
       "      <td>0.0</td>\n",
       "    </tr>\n",
       "    <tr>\n",
       "      <th>Xerta</th>\n",
       "      <th>De 32 anys</th>\n",
       "      <td>8.0</td>\n",
       "      <td>6.0</td>\n",
       "      <td>14.0</td>\n",
       "    </tr>\n",
       "    <tr>\n",
       "      <th>Capçanes</th>\n",
       "      <th>De 94 anys</th>\n",
       "      <td>0.0</td>\n",
       "      <td>0.0</td>\n",
       "      <td>0.0</td>\n",
       "    </tr>\n",
       "    <tr>\n",
       "      <th>Olost</th>\n",
       "      <th>De 14 anys</th>\n",
       "      <td>7.0</td>\n",
       "      <td>2.0</td>\n",
       "      <td>9.0</td>\n",
       "    </tr>\n",
       "  </tbody>\n",
       "</table>\n",
       "</div>"
      ],
      "text/plain": [
       "                                    Homes  Dones  Total\n",
       "Municipi               Edats                           \n",
       " Reus                   De 75 anys  316.0  348.0  664.0\n",
       " Sant Guim de la Plana  De 12 anys    0.0    0.0    0.0\n",
       " Xerta                  De 32 anys    8.0    6.0   14.0\n",
       " Capçanes               De 94 anys    0.0    0.0    0.0\n",
       " Olost                  De 14 anys    7.0    2.0    9.0"
      ]
     },
     "execution_count": 4,
     "metadata": {},
     "output_type": "execute_result"
    }
   ],
   "source": [
    "population_1yr.sample(5)"
   ]
  },
  {
   "cell_type": "markdown",
   "metadata": {},
   "source": [
    "The head and tail of the dataset can be also obtained by executing the following:"
   ]
  },
  {
   "cell_type": "code",
   "execution_count": 5,
   "metadata": {},
   "outputs": [
    {
     "data": {
      "text/html": [
       "<div>\n",
       "<style scoped>\n",
       "    .dataframe tbody tr th:only-of-type {\n",
       "        vertical-align: middle;\n",
       "    }\n",
       "\n",
       "    .dataframe tbody tr th {\n",
       "        vertical-align: top;\n",
       "    }\n",
       "\n",
       "    .dataframe thead th {\n",
       "        text-align: right;\n",
       "    }\n",
       "</style>\n",
       "<table border=\"1\" class=\"dataframe\">\n",
       "  <thead>\n",
       "    <tr style=\"text-align: right;\">\n",
       "      <th></th>\n",
       "      <th></th>\n",
       "      <th>Homes</th>\n",
       "      <th>Dones</th>\n",
       "      <th>Total</th>\n",
       "    </tr>\n",
       "    <tr>\n",
       "      <th>Municipi</th>\n",
       "      <th>Edats</th>\n",
       "      <th></th>\n",
       "      <th></th>\n",
       "      <th></th>\n",
       "    </tr>\n",
       "  </thead>\n",
       "  <tbody>\n",
       "    <tr>\n",
       "      <th rowspan=\"5\" valign=\"top\">Abella de la Conca</th>\n",
       "      <th>De 0 anys</th>\n",
       "      <td>0.0</td>\n",
       "      <td>0.0</td>\n",
       "      <td>0.0</td>\n",
       "    </tr>\n",
       "    <tr>\n",
       "      <th>D'1 any</th>\n",
       "      <td>0.0</td>\n",
       "      <td>0.0</td>\n",
       "      <td>0.0</td>\n",
       "    </tr>\n",
       "    <tr>\n",
       "      <th>De 2 anys</th>\n",
       "      <td>0.0</td>\n",
       "      <td>1.0</td>\n",
       "      <td>1.0</td>\n",
       "    </tr>\n",
       "    <tr>\n",
       "      <th>De 3 anys</th>\n",
       "      <td>1.0</td>\n",
       "      <td>1.0</td>\n",
       "      <td>2.0</td>\n",
       "    </tr>\n",
       "    <tr>\n",
       "      <th>De 4 anys</th>\n",
       "      <td>0.0</td>\n",
       "      <td>0.0</td>\n",
       "      <td>0.0</td>\n",
       "    </tr>\n",
       "  </tbody>\n",
       "</table>\n",
       "</div>"
      ],
      "text/plain": [
       "                                Homes  Dones  Total\n",
       "Municipi            Edats                          \n",
       " Abella de la Conca  De 0 anys    0.0    0.0    0.0\n",
       "                     D'1 any      0.0    0.0    0.0\n",
       "                     De 2 anys    0.0    1.0    1.0\n",
       "                     De 3 anys    1.0    1.0    2.0\n",
       "                     De 4 anys    0.0    0.0    0.0"
      ]
     },
     "execution_count": 5,
     "metadata": {},
     "output_type": "execute_result"
    }
   ],
   "source": [
    "population_1yr.head(5)"
   ]
  },
  {
   "cell_type": "code",
   "execution_count": 6,
   "metadata": {},
   "outputs": [
    {
     "data": {
      "text/html": [
       "<div>\n",
       "<style scoped>\n",
       "    .dataframe tbody tr th:only-of-type {\n",
       "        vertical-align: middle;\n",
       "    }\n",
       "\n",
       "    .dataframe tbody tr th {\n",
       "        vertical-align: top;\n",
       "    }\n",
       "\n",
       "    .dataframe thead th {\n",
       "        text-align: right;\n",
       "    }\n",
       "</style>\n",
       "<table border=\"1\" class=\"dataframe\">\n",
       "  <thead>\n",
       "    <tr style=\"text-align: right;\">\n",
       "      <th></th>\n",
       "      <th></th>\n",
       "      <th>Homes</th>\n",
       "      <th>Dones</th>\n",
       "      <th>Total</th>\n",
       "    </tr>\n",
       "    <tr>\n",
       "      <th>Municipi</th>\n",
       "      <th>Edats</th>\n",
       "      <th></th>\n",
       "      <th></th>\n",
       "      <th></th>\n",
       "    </tr>\n",
       "  </thead>\n",
       "  <tbody>\n",
       "    <tr>\n",
       "      <th rowspan=\"4\" valign=\"top\">Xerta</th>\n",
       "      <th>De 98 anys</th>\n",
       "      <td>0.0</td>\n",
       "      <td>1.0</td>\n",
       "      <td>1.0</td>\n",
       "    </tr>\n",
       "    <tr>\n",
       "      <th>De 99 anys</th>\n",
       "      <td>0.0</td>\n",
       "      <td>1.0</td>\n",
       "      <td>1.0</td>\n",
       "    </tr>\n",
       "    <tr>\n",
       "      <th>De 100 anys i més</th>\n",
       "      <td>0.0</td>\n",
       "      <td>1.0</td>\n",
       "      <td>1.0</td>\n",
       "    </tr>\n",
       "    <tr>\n",
       "      <th>Total</th>\n",
       "      <td>570.0</td>\n",
       "      <td>600.0</td>\n",
       "      <td>1170.0</td>\n",
       "    </tr>\n",
       "    <tr>\n",
       "      <th>NaN</th>\n",
       "      <th>NaN</th>\n",
       "      <td>NaN</td>\n",
       "      <td>NaN</td>\n",
       "      <td>NaN</td>\n",
       "    </tr>\n",
       "  </tbody>\n",
       "</table>\n",
       "</div>"
      ],
      "text/plain": [
       "                             Homes  Dones   Total\n",
       "Municipi Edats                                   \n",
       " Xerta    De 98 anys           0.0    1.0     1.0\n",
       "          De 99 anys           0.0    1.0     1.0\n",
       "          De 100 anys i més    0.0    1.0     1.0\n",
       "          Total              570.0  600.0  1170.0\n",
       "NaN      NaN                   NaN    NaN     NaN"
      ]
     },
     "execution_count": 6,
     "metadata": {},
     "output_type": "execute_result"
    }
   ],
   "source": [
    "population_1yr.tail(5)"
   ]
  },
  {
   "cell_type": "markdown",
   "metadata": {},
   "source": [
    "Oops! There are missing values! Let's count how many cells have NaN:"
   ]
  },
  {
   "cell_type": "code",
   "execution_count": 7,
   "metadata": {},
   "outputs": [
    {
     "data": {
      "text/plain": [
       "3"
      ]
     },
     "execution_count": 7,
     "metadata": {},
     "output_type": "execute_result"
    }
   ],
   "source": [
    "population_1yr.isnull().sum().sum()"
   ]
  },
  {
   "cell_type": "markdown",
   "metadata": {},
   "source": [
    "It looks like its just the last row of this dataset. It can be dropped like so:"
   ]
  },
  {
   "cell_type": "code",
   "execution_count": 8,
   "metadata": {},
   "outputs": [],
   "source": [
    "population_1yr = population_1yr.dropna()"
   ]
  },
  {
   "cell_type": "markdown",
   "metadata": {},
   "source": [
    "Let's check it:"
   ]
  },
  {
   "cell_type": "code",
   "execution_count": 9,
   "metadata": {},
   "outputs": [
    {
     "data": {
      "text/html": [
       "<div>\n",
       "<style scoped>\n",
       "    .dataframe tbody tr th:only-of-type {\n",
       "        vertical-align: middle;\n",
       "    }\n",
       "\n",
       "    .dataframe tbody tr th {\n",
       "        vertical-align: top;\n",
       "    }\n",
       "\n",
       "    .dataframe thead th {\n",
       "        text-align: right;\n",
       "    }\n",
       "</style>\n",
       "<table border=\"1\" class=\"dataframe\">\n",
       "  <thead>\n",
       "    <tr style=\"text-align: right;\">\n",
       "      <th></th>\n",
       "      <th></th>\n",
       "      <th>Homes</th>\n",
       "      <th>Dones</th>\n",
       "      <th>Total</th>\n",
       "    </tr>\n",
       "    <tr>\n",
       "      <th>Municipi</th>\n",
       "      <th>Edats</th>\n",
       "      <th></th>\n",
       "      <th></th>\n",
       "      <th></th>\n",
       "    </tr>\n",
       "  </thead>\n",
       "  <tbody>\n",
       "    <tr>\n",
       "      <th rowspan=\"5\" valign=\"top\">Xerta</th>\n",
       "      <th>De 97 anys</th>\n",
       "      <td>0.0</td>\n",
       "      <td>0.0</td>\n",
       "      <td>0.0</td>\n",
       "    </tr>\n",
       "    <tr>\n",
       "      <th>De 98 anys</th>\n",
       "      <td>0.0</td>\n",
       "      <td>1.0</td>\n",
       "      <td>1.0</td>\n",
       "    </tr>\n",
       "    <tr>\n",
       "      <th>De 99 anys</th>\n",
       "      <td>0.0</td>\n",
       "      <td>1.0</td>\n",
       "      <td>1.0</td>\n",
       "    </tr>\n",
       "    <tr>\n",
       "      <th>De 100 anys i més</th>\n",
       "      <td>0.0</td>\n",
       "      <td>1.0</td>\n",
       "      <td>1.0</td>\n",
       "    </tr>\n",
       "    <tr>\n",
       "      <th>Total</th>\n",
       "      <td>570.0</td>\n",
       "      <td>600.0</td>\n",
       "      <td>1170.0</td>\n",
       "    </tr>\n",
       "  </tbody>\n",
       "</table>\n",
       "</div>"
      ],
      "text/plain": [
       "                             Homes  Dones   Total\n",
       "Municipi Edats                                   \n",
       " Xerta    De 97 anys           0.0    0.0     0.0\n",
       "          De 98 anys           0.0    1.0     1.0\n",
       "          De 99 anys           0.0    1.0     1.0\n",
       "          De 100 anys i més    0.0    1.0     1.0\n",
       "          Total              570.0  600.0  1170.0"
      ]
     },
     "execution_count": 9,
     "metadata": {},
     "output_type": "execute_result"
    }
   ],
   "source": [
    "population_1yr.tail(5)"
   ]
  },
  {
   "cell_type": "code",
   "execution_count": 10,
   "metadata": {},
   "outputs": [
    {
     "data": {
      "text/plain": [
       "0"
      ]
     },
     "execution_count": 10,
     "metadata": {},
     "output_type": "execute_result"
    }
   ],
   "source": [
    "population_1yr.isnull().sum().sum()"
   ]
  },
  {
   "cell_type": "markdown",
   "metadata": {},
   "source": [
    "Fantastic! No missing values. Let's proceed."
   ]
  },
  {
   "cell_type": "markdown",
   "metadata": {},
   "source": [
    "### Example: population of Olot (2018)."
   ]
  },
  {
   "cell_type": "markdown",
   "metadata": {},
   "source": [
    "A subset of the whole dataset can be taken: the population of the city of Olot. As can be seen in the !head command executed above, there are spaces before the town and ages labels, so the index to use is ' Olot', not 'Olot'.\n",
    "\n",
    "The last row of each town subset is the total of each column. For this example, this row is omitted.\n",
    "\n",
    "Also, instead of the indices of ages, a set of numeric indices can be set."
   ]
  },
  {
   "cell_type": "code",
   "execution_count": 11,
   "metadata": {},
   "outputs": [],
   "source": [
    "population_1yr_olot = population_1yr.loc[' Olot', :]\n",
    "population_1yr_olot = population_1yr_olot.loc[' De 0 anys':' De 100 anys i més']\n",
    "\n",
    "index = pd.Index([i for i in range(101)])\n",
    "population_1yr_olot = population_1yr_olot.set_index(index)"
   ]
  },
  {
   "cell_type": "markdown",
   "metadata": {},
   "source": [
    "Let's see how this subset looks:"
   ]
  },
  {
   "cell_type": "code",
   "execution_count": 12,
   "metadata": {
    "scrolled": true
   },
   "outputs": [
    {
     "data": {
      "text/html": [
       "<div>\n",
       "<style scoped>\n",
       "    .dataframe tbody tr th:only-of-type {\n",
       "        vertical-align: middle;\n",
       "    }\n",
       "\n",
       "    .dataframe tbody tr th {\n",
       "        vertical-align: top;\n",
       "    }\n",
       "\n",
       "    .dataframe thead th {\n",
       "        text-align: right;\n",
       "    }\n",
       "</style>\n",
       "<table border=\"1\" class=\"dataframe\">\n",
       "  <thead>\n",
       "    <tr style=\"text-align: right;\">\n",
       "      <th></th>\n",
       "      <th>Homes</th>\n",
       "      <th>Dones</th>\n",
       "      <th>Total</th>\n",
       "    </tr>\n",
       "  </thead>\n",
       "  <tbody>\n",
       "    <tr>\n",
       "      <th>36</th>\n",
       "      <td>226.0</td>\n",
       "      <td>236.0</td>\n",
       "      <td>462.0</td>\n",
       "    </tr>\n",
       "    <tr>\n",
       "      <th>98</th>\n",
       "      <td>0.0</td>\n",
       "      <td>5.0</td>\n",
       "      <td>5.0</td>\n",
       "    </tr>\n",
       "    <tr>\n",
       "      <th>60</th>\n",
       "      <td>241.0</td>\n",
       "      <td>218.0</td>\n",
       "      <td>459.0</td>\n",
       "    </tr>\n",
       "    <tr>\n",
       "      <th>43</th>\n",
       "      <td>277.0</td>\n",
       "      <td>251.0</td>\n",
       "      <td>528.0</td>\n",
       "    </tr>\n",
       "    <tr>\n",
       "      <th>34</th>\n",
       "      <td>231.0</td>\n",
       "      <td>233.0</td>\n",
       "      <td>464.0</td>\n",
       "    </tr>\n",
       "  </tbody>\n",
       "</table>\n",
       "</div>"
      ],
      "text/plain": [
       "    Homes  Dones  Total\n",
       "36  226.0  236.0  462.0\n",
       "98    0.0    5.0    5.0\n",
       "60  241.0  218.0  459.0\n",
       "43  277.0  251.0  528.0\n",
       "34  231.0  233.0  464.0"
      ]
     },
     "execution_count": 12,
     "metadata": {},
     "output_type": "execute_result"
    }
   ],
   "source": [
    "population_1yr_olot.sample(5)"
   ]
  },
  {
   "cell_type": "markdown",
   "metadata": {},
   "source": [
    "A simple plot of this data can be done executing the lines:"
   ]
  },
  {
   "cell_type": "code",
   "execution_count": 13,
   "metadata": {},
   "outputs": [],
   "source": [
    "men = population_1yr_olot['Homes']\n",
    "women = population_1yr_olot['Dones']"
   ]
  },
  {
   "cell_type": "code",
   "execution_count": 14,
   "metadata": {
    "scrolled": false
   },
   "outputs": [
    {
     "data": {
      "image/png": "[encoded data removed]",
      "text/plain": [
       "<Figure size 504x504 with 1 Axes>"
      ]
     },
     "metadata": {},
     "output_type": "display_data"
    }
   ],
   "source": [
    "plt.title('Population of Olot (2018)')\n",
    "plt.xlabel('Age (years)')\n",
    "\n",
    "men.plot(figsize=(7, 7), color='blue', drawstyle='steps-mid', label='Men')\n",
    "women.plot(color='red', drawstyle='steps-mid', label='Women')\n",
    "\n",
    "plt.legend()\n",
    "plt.grid()\n",
    "plt.show()"
   ]
  },
  {
   "cell_type": "markdown",
   "metadata": {},
   "source": [
    "It looks like for ages below 50 years the population of men is greater than women's and viceversa for ages above 60 years. This observation is better seen by plotting the difference between men and women, like this:"
   ]
  },
  {
   "cell_type": "code",
   "execution_count": 15,
   "metadata": {},
   "outputs": [],
   "source": [
    "difference = men - women"
   ]
  },
  {
   "cell_type": "code",
   "execution_count": 16,
   "metadata": {},
   "outputs": [
    {
     "data": {
      "image/png": "[encoded data removed]",
      "text/plain": [
       "<Figure size 504x504 with 1 Axes>"
      ]
     },
     "metadata": {},
     "output_type": "display_data"
    }
   ],
   "source": [
    "plt.title('Population of Olot (2018). Difference between men and women')\n",
    "plt.xlabel('Age (years)')\n",
    "\n",
    "plt.axhline(0, color='black', linestyle='--')\n",
    "difference.plot(figsize=(7, 7), color='orange', drawstyle='steps-mid')\n",
    "\n",
    "plt.grid()\n",
    "plt.show()"
   ]
  },
  {
   "cell_type": "markdown",
   "metadata": {},
   "source": [
    "If each bin of age is normalized with respect to its total, a stacked bar chart can be plotted so these predominances can be better observed:"
   ]
  },
  {
   "cell_type": "code",
   "execution_count": 17,
   "metadata": {},
   "outputs": [],
   "source": [
    "total = population_1yr_olot['Total']\n",
    "\n",
    "men_norm = men / total\n",
    "women_norm = women / total"
   ]
  },
  {
   "cell_type": "code",
   "execution_count": 18,
   "metadata": {
    "scrolled": false
   },
   "outputs": [
    {
     "data": {
      "image/png": "[encoded data removed]",
      "text/plain": [
       "<Figure size 504x504 with 1 Axes>"
      ]
     },
     "metadata": {},
     "output_type": "display_data"
    }
   ],
   "source": [
    "plt.title('Population of Olot (2018). Percentage')\n",
    "plt.xlabel('Age (years)')\n",
    "\n",
    "plt.axhline(0.5, color='w', linestyle='--')\n",
    "men_norm.plot.bar(figsize=(7, 7), color='blue', label='Men', width=1)\n",
    "women_norm.plot.bar(color='red', label='Women', bottom=men_norm, width=1)\n",
    "\n",
    "plt.xticks(np.arange(0, 101, 10), np.arange(0, 101, 10), rotation=0)\n",
    "plt.yticks(np.arange(0, 1.1, 0.1), [str(10*i) + '%' for i in range(11)])\n",
    "plt.xlim(-10, 110)\n",
    "plt.ylim(-0.1, 1.1)\n",
    "\n",
    "plt.legend()\n",
    "plt.grid()\n",
    "plt.show()"
   ]
  },
  {
   "cell_type": "markdown",
   "metadata": {},
   "source": [
    "In the graph above it can be seen how the men population is slightly greater than women's for ages up to 40 years, as commented, although the percentages are practically 50% for men and women. On the other hand, above 60 years the predominance of women is clear, reaching more than 70% for ages above 90 years.\n",
    "\n",
    "The explanation for this \"fall\" in the graph could be because of women's higher life expectancy."
   ]
  },
  {
   "cell_type": "markdown",
   "metadata": {},
   "source": [
    "This graph can be repeated in binary: a bar is blue if there's more men than women and red else."
   ]
  },
  {
   "cell_type": "code",
   "execution_count": 19,
   "metadata": {},
   "outputs": [],
   "source": [
    "men_bin = men_norm\n",
    "\n",
    "men_bin[men_bin > 0.5] = 1\n",
    "men_bin[men_bin < 0.5] = 0\n",
    "women_bin = 1 - men_bin"
   ]
  },
  {
   "cell_type": "code",
   "execution_count": 20,
   "metadata": {},
   "outputs": [
    {
     "data": {
      "image/png": "[encoded data removed]",
      "text/plain": [
       "<Figure size 504x144 with 1 Axes>"
      ]
     },
     "metadata": {},
     "output_type": "display_data"
    }
   ],
   "source": [
    "plt.title('Population of Olot (2018). Predominance')\n",
    "plt.xlabel('Age (years)')\n",
    "\n",
    "men_bin.plot.bar(figsize=(7, 2), color='blue', label='Men', width=1)\n",
    "women_bin.plot.bar(color='red', label='Women', bottom=men_bin, width=1)\n",
    "\n",
    "plt.xticks(np.arange(0, 101, 10), np.arange(0, 101, 10), rotation=0)\n",
    "plt.xlim(-10, 110)\n",
    "plt.ylim(-0.1, 1.1)\n",
    "\n",
    "plt.tick_params(axis='y', left=False, labelleft=False)\n",
    "\n",
    "plt.legend()\n",
    "plt.grid(axis='x')\n",
    "plt.show()"
   ]
  },
  {
   "cell_type": "markdown",
   "metadata": {},
   "source": [
    "Again, in this graph the predominance of women in ages above 60 years can be observed."
   ]
  },
  {
   "cell_type": "markdown",
   "metadata": {},
   "source": [
    "A population pyramid can be also plotted executing:"
   ]
  },
  {
   "cell_type": "code",
   "execution_count": 21,
   "metadata": {},
   "outputs": [],
   "source": [
    "men = men.apply(lambda x: -x)"
   ]
  },
  {
   "cell_type": "code",
   "execution_count": 22,
   "metadata": {},
   "outputs": [
    {
     "data": {
      "image/png": "[encoded data removed]",
      "text/plain": [
       "<Figure size 504x504 with 1 Axes>"
      ]
     },
     "metadata": {},
     "output_type": "display_data"
    }
   ],
   "source": [
    "plt.title('Population of Olot (2018)')\n",
    "plt.ylabel('Age (years)')\n",
    "\n",
    "men.plot.barh(figsize=(7, 7), color='blue', edgecolor='black', label='Men', width=1)\n",
    "women.plot.barh(color='red', edgecolor='black', label='Women', width=1)\n",
    "\n",
    "plt.xticks(np.arange(-300, 301, 50), np.abs(np.arange(-300, 301, 50)))\n",
    "plt.yticks(np.arange(0, 101, 10), np.arange(0, 101, 10))\n",
    "\n",
    "plt.legend()\n",
    "plt.grid()\n",
    "plt.show()"
   ]
  },
  {
   "cell_type": "markdown",
   "metadata": {},
   "source": [
    "Like in previous graphs, it can be seen how the population pyramid is practically symmetric for ages below 40 years, meaning that there are as much men than women in each bin, and for ages greater than 60 years the population of men decreases more than women's, especially in the interval of 80 to 90 years."
   ]
  },
  {
   "cell_type": "markdown",
   "metadata": {},
   "source": [
    "Concerning the shape of this population pyramid, and that of some of the previous graphs, the explanation for its large width in the interval of ages from 40 to 60 years corresponds to the so-called baby-boom generation. Indeed, the increase of birth rate in Spain was approximately from the 60s to the 80s."
   ]
  },
  {
   "cell_type": "markdown",
   "metadata": {},
   "source": [
    "In all these graphs the difference between bins is sometimes great, making them look irregular in some occasions. This is, of course, due to the fact that the data is in bins of 1 year only. By changing to bins of 5 years, these irregularities will be smoothed and there will be less noise."
   ]
  },
  {
   "cell_type": "markdown",
   "metadata": {},
   "source": [
    "Like before, let's first print the first lines of the file:"
   ]
  },
  {
   "cell_type": "code",
   "execution_count": 23,
   "metadata": {
    "scrolled": true
   },
   "outputs": [
    {
     "name": "stdout",
     "output_type": "stream",
     "text": [
      "Poblaci� per sexe i edat quinquennal;;;;;;\r",
      "\r\n",
      "Distribuci� per municipis. Any 2018.;;;;;;\r",
      "\r\n",
      ";;;;;;\r",
      "\r\n",
      "Any;Codi;Municipi;Edat;Homes;Dones;Total\r",
      "\r\n",
      "2018;250019; Abella de la Conca; De 0 a 4 anys;1;2;3\r",
      "\r\n",
      "2018;250019; Abella de la Conca; De 5 a 9 anys;6;1;7\r",
      "\r\n",
      "2018;250019; Abella de la Conca; De 10 a 14 anys;2;4;6\r",
      "\r\n",
      "2018;250019; Abella de la Conca; De 15 a 19 anys;4;8;12\r",
      "\r\n",
      "2018;250019; Abella de la Conca; De 20 a 24 anys;2;2;4\r",
      "\r\n",
      "2018;250019; Abella de la Conca; De 25 a 29 anys;5;4;9\r",
      "\r\n"
     ]
    }
   ],
   "source": [
    "!head 'p2018_municipis_quinquenal.csv'"
   ]
  },
  {
   "cell_type": "markdown",
   "metadata": {},
   "source": [
    "The next step is reading the file. Like in the previous case, some columns are not considered and some are set as indices:"
   ]
  },
  {
   "cell_type": "code",
   "execution_count": 24,
   "metadata": {},
   "outputs": [],
   "source": [
    "filename = 'p2018_municipis_quinquenal.csv'\n",
    "indices = ['Municipi', 'Edat']\n",
    "columns = ['Homes', 'Dones', 'Total']\n",
    "population_5yr = pd.read_csv(filename, skiprows=3, sep=';', thousands='.', encoding='latin1', usecols=indices+columns)\n",
    "\n",
    "population_5yr = population_5yr.set_index(indices)\n",
    "\n",
    "population_5yr[['Homes', 'Dones', 'Total']] = population_5yr[['Homes', 'Dones', 'Total']].apply(pd.to_numeric)"
   ]
  },
  {
   "cell_type": "markdown",
   "metadata": {},
   "source": [
    "The rows with missing values (the last row) are dropped:"
   ]
  },
  {
   "cell_type": "code",
   "execution_count": 25,
   "metadata": {},
   "outputs": [
    {
     "data": {
      "text/html": [
       "<div>\n",
       "<style scoped>\n",
       "    .dataframe tbody tr th:only-of-type {\n",
       "        vertical-align: middle;\n",
       "    }\n",
       "\n",
       "    .dataframe tbody tr th {\n",
       "        vertical-align: top;\n",
       "    }\n",
       "\n",
       "    .dataframe thead th {\n",
       "        text-align: right;\n",
       "    }\n",
       "</style>\n",
       "<table border=\"1\" class=\"dataframe\">\n",
       "  <thead>\n",
       "    <tr style=\"text-align: right;\">\n",
       "      <th></th>\n",
       "      <th></th>\n",
       "      <th>Homes</th>\n",
       "      <th>Dones</th>\n",
       "      <th>Total</th>\n",
       "    </tr>\n",
       "    <tr>\n",
       "      <th>Municipi</th>\n",
       "      <th>Edat</th>\n",
       "      <th></th>\n",
       "      <th></th>\n",
       "      <th></th>\n",
       "    </tr>\n",
       "  </thead>\n",
       "  <tbody>\n",
       "    <tr>\n",
       "      <th rowspan=\"4\" valign=\"top\">Xerta</th>\n",
       "      <th>De 90 a 94 anys</th>\n",
       "      <td>4.0</td>\n",
       "      <td>12.0</td>\n",
       "      <td>16.0</td>\n",
       "    </tr>\n",
       "    <tr>\n",
       "      <th>De 95 a 99 anys</th>\n",
       "      <td>1.0</td>\n",
       "      <td>3.0</td>\n",
       "      <td>4.0</td>\n",
       "    </tr>\n",
       "    <tr>\n",
       "      <th>De 100 anys i més</th>\n",
       "      <td>0.0</td>\n",
       "      <td>1.0</td>\n",
       "      <td>1.0</td>\n",
       "    </tr>\n",
       "    <tr>\n",
       "      <th>Total</th>\n",
       "      <td>570.0</td>\n",
       "      <td>600.0</td>\n",
       "      <td>1170.0</td>\n",
       "    </tr>\n",
       "    <tr>\n",
       "      <th>NaN</th>\n",
       "      <th>NaN</th>\n",
       "      <td>NaN</td>\n",
       "      <td>NaN</td>\n",
       "      <td>NaN</td>\n",
       "    </tr>\n",
       "  </tbody>\n",
       "</table>\n",
       "</div>"
      ],
      "text/plain": [
       "                             Homes  Dones   Total\n",
       "Municipi Edat                                    \n",
       " Xerta    De 90 a 94 anys      4.0   12.0    16.0\n",
       "          De 95 a 99 anys      1.0    3.0     4.0\n",
       "          De 100 anys i més    0.0    1.0     1.0\n",
       "          Total              570.0  600.0  1170.0\n",
       "NaN      NaN                   NaN    NaN     NaN"
      ]
     },
     "execution_count": 25,
     "metadata": {},
     "output_type": "execute_result"
    }
   ],
   "source": [
    "population_5yr.tail(5)"
   ]
  },
  {
   "cell_type": "code",
   "execution_count": 26,
   "metadata": {
    "scrolled": true
   },
   "outputs": [
    {
     "data": {
      "text/plain": [
       "3"
      ]
     },
     "execution_count": 26,
     "metadata": {},
     "output_type": "execute_result"
    }
   ],
   "source": [
    "population_5yr.isnull().sum().sum()"
   ]
  },
  {
   "cell_type": "code",
   "execution_count": 27,
   "metadata": {},
   "outputs": [],
   "source": [
    "population_5yr = population_5yr.dropna()"
   ]
  },
  {
   "cell_type": "code",
   "execution_count": 28,
   "metadata": {},
   "outputs": [
    {
     "data": {
      "text/html": [
       "<div>\n",
       "<style scoped>\n",
       "    .dataframe tbody tr th:only-of-type {\n",
       "        vertical-align: middle;\n",
       "    }\n",
       "\n",
       "    .dataframe tbody tr th {\n",
       "        vertical-align: top;\n",
       "    }\n",
       "\n",
       "    .dataframe thead th {\n",
       "        text-align: right;\n",
       "    }\n",
       "</style>\n",
       "<table border=\"1\" class=\"dataframe\">\n",
       "  <thead>\n",
       "    <tr style=\"text-align: right;\">\n",
       "      <th></th>\n",
       "      <th></th>\n",
       "      <th>Homes</th>\n",
       "      <th>Dones</th>\n",
       "      <th>Total</th>\n",
       "    </tr>\n",
       "    <tr>\n",
       "      <th>Municipi</th>\n",
       "      <th>Edat</th>\n",
       "      <th></th>\n",
       "      <th></th>\n",
       "      <th></th>\n",
       "    </tr>\n",
       "  </thead>\n",
       "  <tbody>\n",
       "    <tr>\n",
       "      <th rowspan=\"5\" valign=\"top\">Xerta</th>\n",
       "      <th>De 85 a 89 anys</th>\n",
       "      <td>14.0</td>\n",
       "      <td>38.0</td>\n",
       "      <td>52.0</td>\n",
       "    </tr>\n",
       "    <tr>\n",
       "      <th>De 90 a 94 anys</th>\n",
       "      <td>4.0</td>\n",
       "      <td>12.0</td>\n",
       "      <td>16.0</td>\n",
       "    </tr>\n",
       "    <tr>\n",
       "      <th>De 95 a 99 anys</th>\n",
       "      <td>1.0</td>\n",
       "      <td>3.0</td>\n",
       "      <td>4.0</td>\n",
       "    </tr>\n",
       "    <tr>\n",
       "      <th>De 100 anys i més</th>\n",
       "      <td>0.0</td>\n",
       "      <td>1.0</td>\n",
       "      <td>1.0</td>\n",
       "    </tr>\n",
       "    <tr>\n",
       "      <th>Total</th>\n",
       "      <td>570.0</td>\n",
       "      <td>600.0</td>\n",
       "      <td>1170.0</td>\n",
       "    </tr>\n",
       "  </tbody>\n",
       "</table>\n",
       "</div>"
      ],
      "text/plain": [
       "                             Homes  Dones   Total\n",
       "Municipi Edat                                    \n",
       " Xerta    De 85 a 89 anys     14.0   38.0    52.0\n",
       "          De 90 a 94 anys      4.0   12.0    16.0\n",
       "          De 95 a 99 anys      1.0    3.0     4.0\n",
       "          De 100 anys i més    0.0    1.0     1.0\n",
       "          Total              570.0  600.0  1170.0"
      ]
     },
     "execution_count": 28,
     "metadata": {},
     "output_type": "execute_result"
    }
   ],
   "source": [
    "population_5yr.tail(5)"
   ]
  },
  {
   "cell_type": "code",
   "execution_count": 29,
   "metadata": {},
   "outputs": [
    {
     "data": {
      "text/plain": [
       "0"
      ]
     },
     "execution_count": 29,
     "metadata": {},
     "output_type": "execute_result"
    }
   ],
   "source": [
    "population_5yr.isnull().sum().sum()"
   ]
  },
  {
   "cell_type": "markdown",
   "metadata": {},
   "source": [
    "The subset of population of Olot is taken:"
   ]
  },
  {
   "cell_type": "code",
   "execution_count": 30,
   "metadata": {},
   "outputs": [],
   "source": [
    "population_5yr_olot = population_5yr.loc[' Olot', :]\n",
    "population_5yr_olot = population_5yr_olot.loc[' De 0 a 4 anys':' De 100 anys i més']\n",
    "\n",
    "array = [str(5*i) + ' to ' + str(5*i + 4) for i in range(20)] + ['100 or more']\n",
    "index = pd.Index(array)\n",
    "population_5yr_olot = population_5yr_olot.set_index(index)"
   ]
  },
  {
   "cell_type": "markdown",
   "metadata": {},
   "source": [
    "And it is plotted:"
   ]
  },
  {
   "cell_type": "code",
   "execution_count": 31,
   "metadata": {},
   "outputs": [],
   "source": [
    "men = population_5yr_olot['Homes']\n",
    "women = population_5yr_olot['Dones']"
   ]
  },
  {
   "cell_type": "code",
   "execution_count": 32,
   "metadata": {},
   "outputs": [
    {
     "data": {
      "image/png": "[encoded data removed]",
      "text/plain": [
       "<Figure size 504x504 with 1 Axes>"
      ]
     },
     "metadata": {},
     "output_type": "display_data"
    }
   ],
   "source": [
    "plt.title('Population of Olot (2018)')\n",
    "plt.xlabel('Age (years)')\n",
    "\n",
    "men.plot(figsize=(7, 7), color='blue', drawstyle='steps-mid', label='Men')\n",
    "women.plot(color='red', drawstyle='steps-mid', label='Women')\n",
    "\n",
    "plt.xticks(range(len(array)), array, rotation=90)\n",
    "\n",
    "plt.legend()\n",
    "plt.grid()\n",
    "plt.show()"
   ]
  },
  {
   "cell_type": "markdown",
   "metadata": {},
   "source": [
    "As expected, now there are less irregularities: the predominance of men is uninterrupted for ages up to 44 years and the same can be said of women for ages from 65 years to 100 or more."
   ]
  },
  {
   "cell_type": "markdown",
   "metadata": {},
   "source": [
    "Let's repeat the rest of the plots again. First, the differences between men and women:"
   ]
  },
  {
   "cell_type": "code",
   "execution_count": 33,
   "metadata": {},
   "outputs": [],
   "source": [
    "difference = men - women"
   ]
  },
  {
   "cell_type": "code",
   "execution_count": 34,
   "metadata": {},
   "outputs": [
    {
     "data": {
      "image/png": "[encoded data removed]",
      "text/plain": [
       "<Figure size 504x504 with 1 Axes>"
      ]
     },
     "metadata": {},
     "output_type": "display_data"
    }
   ],
   "source": [
    "plt.title('Population of Olot (2018). Difference between men and women')\n",
    "plt.xlabel('Age (years)')\n",
    "\n",
    "plt.axhline(0, color='black', linestyle='--')\n",
    "difference.plot(figsize=(7, 7), color='orange', drawstyle='steps-mid')\n",
    "\n",
    "plt.grid()\n",
    "plt.show()"
   ]
  },
  {
   "cell_type": "markdown",
   "metadata": {},
   "source": [
    "Next, the percentages:"
   ]
  },
  {
   "cell_type": "code",
   "execution_count": 35,
   "metadata": {},
   "outputs": [],
   "source": [
    "total = population_5yr_olot['Total']\n",
    "\n",
    "men_norm = men / total\n",
    "women_norm = women / total"
   ]
  },
  {
   "cell_type": "code",
   "execution_count": 36,
   "metadata": {
    "scrolled": false
   },
   "outputs": [
    {
     "data": {
      "image/png": "[encoded data removed]",
      "text/plain": [
       "<Figure size 504x504 with 1 Axes>"
      ]
     },
     "metadata": {},
     "output_type": "display_data"
    }
   ],
   "source": [
    "plt.title('Population of Olot (2018). Percentage')\n",
    "plt.xlabel('Age (years)')\n",
    "\n",
    "plt.axhline(0.5, color='w', linestyle='--')\n",
    "men_norm.plot.bar(figsize=(7, 7), color='blue', label='Men', width=1)\n",
    "women_norm.plot.bar(color='red', label='Women', bottom=men_norm, width=1)\n",
    "\n",
    "plt.yticks(np.arange(0, 1.1, 0.1), [str(10*i) + '%' for i in range(11)])\n",
    "plt.xlim(-1, 21)\n",
    "plt.ylim(-0.1, 1.1)\n",
    "\n",
    "plt.legend()\n",
    "plt.grid()\n",
    "plt.show()"
   ]
  },
  {
   "cell_type": "markdown",
   "metadata": {},
   "source": [
    "Finally, the predominance:"
   ]
  },
  {
   "cell_type": "code",
   "execution_count": 37,
   "metadata": {},
   "outputs": [],
   "source": [
    "men_bin = men_norm\n",
    "\n",
    "men_bin[men_bin > 0.5] = 1\n",
    "men_bin[men_bin < 0.5] = 0\n",
    "women_bin = 1 - men_bin"
   ]
  },
  {
   "cell_type": "code",
   "execution_count": 38,
   "metadata": {},
   "outputs": [
    {
     "data": {
      "image/png": "[encoded data removed]",
      "text/plain": [
       "<Figure size 504x144 with 1 Axes>"
      ]
     },
     "metadata": {},
     "output_type": "display_data"
    }
   ],
   "source": [
    "plt.title('Population of Olot (2018). Predominance')\n",
    "plt.xlabel('Age (years)')\n",
    "\n",
    "men_bin.plot.bar(figsize=(7, 2), color='blue', label='Men', width=1)\n",
    "women_bin.plot.bar(color='red', label='Women', bottom=men_bin, width=1)\n",
    "\n",
    "plt.xlim(-1, 21)\n",
    "plt.ylim(-0.1, 1.1)\n",
    "\n",
    "plt.tick_params(axis='y', left=False, labelleft=False)\n",
    "\n",
    "plt.legend()\n",
    "plt.grid(axis='x')\n",
    "plt.show()"
   ]
  },
  {
   "cell_type": "markdown",
   "metadata": {},
   "source": [
    "This last graph is the most clear example of how smooth the data is now in comparison with the previous dataset. There are no irregularities at all: the predominances are uninterrupted, with no peaks, with no exceptions."
   ]
  },
  {
   "cell_type": "markdown",
   "metadata": {},
   "source": [
    "The population pyramid of this dataset is also obtained:"
   ]
  },
  {
   "cell_type": "code",
   "execution_count": 39,
   "metadata": {},
   "outputs": [],
   "source": [
    "men = men.apply(lambda x: -x)"
   ]
  },
  {
   "cell_type": "code",
   "execution_count": 40,
   "metadata": {},
   "outputs": [
    {
     "data": {
      "image/png": "[encoded data removed]",
      "text/plain": [
       "<Figure size 504x504 with 1 Axes>"
      ]
     },
     "metadata": {},
     "output_type": "display_data"
    }
   ],
   "source": [
    "plt.title('Population of Olot (2018)')\n",
    "plt.ylabel('Age (years)')\n",
    "\n",
    "men.plot.barh(figsize=(7, 7), color='blue', edgecolor='black', label='Men', width=0.8)\n",
    "women.plot.barh(color='red', edgecolor='black', label='Women', width=0.8)\n",
    "\n",
    "plt.xticks((-1500, -1000, -500, 0, 500, 1000, 1500), (1500, 1000, 500, 0, 500, 1000, 1500))\n",
    "\n",
    "plt.legend()\n",
    "plt.grid()\n",
    "plt.show()"
   ]
  },
  {
   "cell_type": "markdown",
   "metadata": {},
   "source": [
    "As before the baby-boom generation can be observed in the bins of ages from 35 to 60 years."
   ]
  },
  {
   "cell_type": "markdown",
   "metadata": {},
   "source": [
    "What about immigration? How much of Olot's population in 2018 is not Catalan? Or not even Spanish? There's another file to analise this factor. Let's read the first lines:"
   ]
  },
  {
   "cell_type": "code",
   "execution_count": 41,
   "metadata": {},
   "outputs": [
    {
     "name": "stdout",
     "output_type": "stream",
     "text": [
      "Poblaci� segons  lloc de naixement per comunitats aut�nomes  i sexe;;;;;;;;;;;;;;;;;;;;;;;;;;;;\r",
      "\r\n",
      "Distribuci� per municipis. Any 2018.;;;;;;;;;;;;;;;;;;;;;;;;;;;;\r",
      "\r\n",
      ";;;;;;;;;;;;;;;;;;;;;;;;;;;;\r",
      "\r\n",
      ";;Nascuts a;;;;;;;;Nascuts a;;;;;;;;;Nascuts a;;;;;;;;;\r",
      "\r\n",
      ";;;;;;;;;;�;;;;;;;;;�;;;;;;;;;\r",
      "\r\n",
      "Any;Codi;Municipi;Sexe;Catalunya;Barcelona;Girona;Lleida;Tarragona;Resta d'Espanya;Andalusia;Arag�;Principat d'Ast�ries;Illes Balears;Can�ries;Cant�bria;Castella - la Manxa;Castella i Lle�;Comunitat Valenciana;Extremadura;Gal�cia;Comunitat de Madrid;Regi� de M�rcia;Comunitat Foral de Navarra;Pa�s Basc;Rioja, La;Ceuta i Melilla;Estranger;Total\r",
      "\r\n",
      "2018;250019; Abella de la Conca; Homes;85;27;0;56;2;4;1;1;0;2;0;0;0;0;0;0;0;0;0;0;0;0;0;10;99\r",
      "\r\n",
      "2018;250019; Abella de la Conca; Dones;69;18;2;49;0;3;2;0;0;0;0;0;0;0;0;0;0;1;0;0;0;0;0;10;82\r",
      "\r\n",
      "2018;250019; Abella de la Conca; Total;154;45;2;105;2;7;3;1;0;2;0;0;0;0;0;0;0;1;0;0;0;0;0;20;181\r",
      "\r\n",
      "2018;80018; Abrera; Homes;4.357;4.259;12;47;39;1.289;632;52;7;7;3;13;120;102;55;116;75;33;29;4;19;3;19;602;6.248\r",
      "\r\n"
     ]
    }
   ],
   "source": [
    "!head 'p2018_municipis_llnaix.csv'"
   ]
  },
  {
   "cell_type": "markdown",
   "metadata": {},
   "source": [
    "There are many interesting columns, in this dataset: for each town, there's the number of men, women and total that were born in Catalonia, in Spain or abroad. Also, within those born in Catalonia, there's the distinction of the four provincies: Barcelona, Girona, Lleida and Tarragona; within those born in Spain, there are the sixteen other autonomous communities (excepting Catalonia) and the two autonomous cities together: Ceuta and Melilla."
   ]
  },
  {
   "cell_type": "code",
   "execution_count": 42,
   "metadata": {},
   "outputs": [],
   "source": [
    "filename = 'p2018_municipis_llnaix.csv'\n",
    "indices = ['Municipi', 'Sexe']\n",
    "columns = ['Catalunya', \"Resta d'Espanya\", 'Estranger',\n",
    "           'Barcelona', 'Girona', 'Lleida', 'Tarragona',\n",
    "           'Andalusia', 'Aragó', \"Principat d'Astúries\", 'Illes Balears', 'Canàries', 'Cantàbria',\n",
    "           'Castella - la Manxa', 'Castella i Lleó', 'Comunitat Valenciana', 'Extremadura', 'Galícia',\n",
    "           'Comunitat de Madrid', 'Regió de Múrcia', 'Comunitat Foral de Navarra', 'País Basc', 'Rioja, La',\n",
    "           'Ceuta i Melilla']\n",
    "population_pob = pd.read_csv(filename, skiprows=5, sep=';', thousands='.', encoding='latin1', usecols=indices+columns)\n",
    "\n",
    "population_pob = population_pob.set_index(indices)\n",
    "\n",
    "population_pob[columns] = population_pob[columns].apply(pd.to_numeric)"
   ]
  },
  {
   "cell_type": "markdown",
   "metadata": {},
   "source": [
    "Again, there are missing values in the last row:"
   ]
  },
  {
   "cell_type": "code",
   "execution_count": 43,
   "metadata": {},
   "outputs": [
    {
     "data": {
      "text/html": [
       "<div>\n",
       "<style scoped>\n",
       "    .dataframe tbody tr th:only-of-type {\n",
       "        vertical-align: middle;\n",
       "    }\n",
       "\n",
       "    .dataframe tbody tr th {\n",
       "        vertical-align: top;\n",
       "    }\n",
       "\n",
       "    .dataframe thead th {\n",
       "        text-align: right;\n",
       "    }\n",
       "</style>\n",
       "<table border=\"1\" class=\"dataframe\">\n",
       "  <thead>\n",
       "    <tr style=\"text-align: right;\">\n",
       "      <th></th>\n",
       "      <th></th>\n",
       "      <th>Catalunya</th>\n",
       "      <th>Barcelona</th>\n",
       "      <th>Girona</th>\n",
       "      <th>Lleida</th>\n",
       "      <th>Tarragona</th>\n",
       "      <th>Resta d'Espanya</th>\n",
       "      <th>Andalusia</th>\n",
       "      <th>Aragó</th>\n",
       "      <th>Principat d'Astúries</th>\n",
       "      <th>Illes Balears</th>\n",
       "      <th>...</th>\n",
       "      <th>Comunitat Valenciana</th>\n",
       "      <th>Extremadura</th>\n",
       "      <th>Galícia</th>\n",
       "      <th>Comunitat de Madrid</th>\n",
       "      <th>Regió de Múrcia</th>\n",
       "      <th>Comunitat Foral de Navarra</th>\n",
       "      <th>País Basc</th>\n",
       "      <th>Rioja, La</th>\n",
       "      <th>Ceuta i Melilla</th>\n",
       "      <th>Estranger</th>\n",
       "    </tr>\n",
       "    <tr>\n",
       "      <th>Municipi</th>\n",
       "      <th>Sexe</th>\n",
       "      <th></th>\n",
       "      <th></th>\n",
       "      <th></th>\n",
       "      <th></th>\n",
       "      <th></th>\n",
       "      <th></th>\n",
       "      <th></th>\n",
       "      <th></th>\n",
       "      <th></th>\n",
       "      <th></th>\n",
       "      <th></th>\n",
       "      <th></th>\n",
       "      <th></th>\n",
       "      <th></th>\n",
       "      <th></th>\n",
       "      <th></th>\n",
       "      <th></th>\n",
       "      <th></th>\n",
       "      <th></th>\n",
       "      <th></th>\n",
       "      <th></th>\n",
       "    </tr>\n",
       "  </thead>\n",
       "  <tbody>\n",
       "    <tr>\n",
       "      <th>Viver i Serrateix</th>\n",
       "      <th>Total</th>\n",
       "      <td>158.0</td>\n",
       "      <td>148.0</td>\n",
       "      <td>3.0</td>\n",
       "      <td>6.0</td>\n",
       "      <td>1.0</td>\n",
       "      <td>4.0</td>\n",
       "      <td>2.0</td>\n",
       "      <td>0.0</td>\n",
       "      <td>0.0</td>\n",
       "      <td>0.0</td>\n",
       "      <td>...</td>\n",
       "      <td>0.0</td>\n",
       "      <td>1.0</td>\n",
       "      <td>0.0</td>\n",
       "      <td>1.0</td>\n",
       "      <td>0.0</td>\n",
       "      <td>0.0</td>\n",
       "      <td>0.0</td>\n",
       "      <td>0.0</td>\n",
       "      <td>0.0</td>\n",
       "      <td>2.0</td>\n",
       "    </tr>\n",
       "    <tr>\n",
       "      <th rowspan=\"3\" valign=\"top\">Xerta</th>\n",
       "      <th>Homes</th>\n",
       "      <td>484.0</td>\n",
       "      <td>53.0</td>\n",
       "      <td>3.0</td>\n",
       "      <td>3.0</td>\n",
       "      <td>425.0</td>\n",
       "      <td>42.0</td>\n",
       "      <td>12.0</td>\n",
       "      <td>7.0</td>\n",
       "      <td>0.0</td>\n",
       "      <td>0.0</td>\n",
       "      <td>...</td>\n",
       "      <td>10.0</td>\n",
       "      <td>3.0</td>\n",
       "      <td>4.0</td>\n",
       "      <td>0.0</td>\n",
       "      <td>1.0</td>\n",
       "      <td>0.0</td>\n",
       "      <td>0.0</td>\n",
       "      <td>1.0</td>\n",
       "      <td>0.0</td>\n",
       "      <td>44.0</td>\n",
       "    </tr>\n",
       "    <tr>\n",
       "      <th>Dones</th>\n",
       "      <td>510.0</td>\n",
       "      <td>62.0</td>\n",
       "      <td>4.0</td>\n",
       "      <td>2.0</td>\n",
       "      <td>442.0</td>\n",
       "      <td>41.0</td>\n",
       "      <td>9.0</td>\n",
       "      <td>6.0</td>\n",
       "      <td>0.0</td>\n",
       "      <td>0.0</td>\n",
       "      <td>...</td>\n",
       "      <td>11.0</td>\n",
       "      <td>0.0</td>\n",
       "      <td>7.0</td>\n",
       "      <td>3.0</td>\n",
       "      <td>0.0</td>\n",
       "      <td>0.0</td>\n",
       "      <td>1.0</td>\n",
       "      <td>0.0</td>\n",
       "      <td>0.0</td>\n",
       "      <td>49.0</td>\n",
       "    </tr>\n",
       "    <tr>\n",
       "      <th>Total</th>\n",
       "      <td>994.0</td>\n",
       "      <td>115.0</td>\n",
       "      <td>7.0</td>\n",
       "      <td>5.0</td>\n",
       "      <td>867.0</td>\n",
       "      <td>83.0</td>\n",
       "      <td>21.0</td>\n",
       "      <td>13.0</td>\n",
       "      <td>0.0</td>\n",
       "      <td>0.0</td>\n",
       "      <td>...</td>\n",
       "      <td>21.0</td>\n",
       "      <td>3.0</td>\n",
       "      <td>11.0</td>\n",
       "      <td>3.0</td>\n",
       "      <td>1.0</td>\n",
       "      <td>0.0</td>\n",
       "      <td>1.0</td>\n",
       "      <td>1.0</td>\n",
       "      <td>0.0</td>\n",
       "      <td>93.0</td>\n",
       "    </tr>\n",
       "    <tr>\n",
       "      <th>NaN</th>\n",
       "      <th>NaN</th>\n",
       "      <td>NaN</td>\n",
       "      <td>NaN</td>\n",
       "      <td>NaN</td>\n",
       "      <td>NaN</td>\n",
       "      <td>NaN</td>\n",
       "      <td>NaN</td>\n",
       "      <td>NaN</td>\n",
       "      <td>NaN</td>\n",
       "      <td>NaN</td>\n",
       "      <td>NaN</td>\n",
       "      <td>...</td>\n",
       "      <td>NaN</td>\n",
       "      <td>NaN</td>\n",
       "      <td>NaN</td>\n",
       "      <td>NaN</td>\n",
       "      <td>NaN</td>\n",
       "      <td>NaN</td>\n",
       "      <td>NaN</td>\n",
       "      <td>NaN</td>\n",
       "      <td>NaN</td>\n",
       "      <td>NaN</td>\n",
       "    </tr>\n",
       "  </tbody>\n",
       "</table>\n",
       "<p>5 rows × 24 columns</p>\n",
       "</div>"
      ],
      "text/plain": [
       "                           Catalunya  Barcelona  Girona  Lleida  Tarragona  \\\n",
       "Municipi           Sexe                                                      \n",
       " Viver i Serrateix  Total      158.0      148.0     3.0     6.0        1.0   \n",
       " Xerta              Homes      484.0       53.0     3.0     3.0      425.0   \n",
       "                    Dones      510.0       62.0     4.0     2.0      442.0   \n",
       "                    Total      994.0      115.0     7.0     5.0      867.0   \n",
       "NaN                NaN           NaN        NaN     NaN     NaN        NaN   \n",
       "\n",
       "                           Resta d'Espanya  Andalusia  Aragó  \\\n",
       "Municipi           Sexe                                        \n",
       " Viver i Serrateix  Total              4.0        2.0    0.0   \n",
       " Xerta              Homes             42.0       12.0    7.0   \n",
       "                    Dones             41.0        9.0    6.0   \n",
       "                    Total             83.0       21.0   13.0   \n",
       "NaN                NaN                 NaN        NaN    NaN   \n",
       "\n",
       "                           Principat d'Astúries  Illes Balears    ...      \\\n",
       "Municipi           Sexe                                           ...       \n",
       " Viver i Serrateix  Total                   0.0            0.0    ...       \n",
       " Xerta              Homes                   0.0            0.0    ...       \n",
       "                    Dones                   0.0            0.0    ...       \n",
       "                    Total                   0.0            0.0    ...       \n",
       "NaN                NaN                      NaN            NaN    ...       \n",
       "\n",
       "                           Comunitat Valenciana  Extremadura  Galícia  \\\n",
       "Municipi           Sexe                                                 \n",
       " Viver i Serrateix  Total                   0.0          1.0      0.0   \n",
       " Xerta              Homes                  10.0          3.0      4.0   \n",
       "                    Dones                  11.0          0.0      7.0   \n",
       "                    Total                  21.0          3.0     11.0   \n",
       "NaN                NaN                      NaN          NaN      NaN   \n",
       "\n",
       "                           Comunitat de Madrid  Regió de Múrcia  \\\n",
       "Municipi           Sexe                                           \n",
       " Viver i Serrateix  Total                  1.0              0.0   \n",
       " Xerta              Homes                  0.0              1.0   \n",
       "                    Dones                  3.0              0.0   \n",
       "                    Total                  3.0              1.0   \n",
       "NaN                NaN                     NaN              NaN   \n",
       "\n",
       "                           Comunitat Foral de Navarra  País Basc  Rioja, La  \\\n",
       "Municipi           Sexe                                                       \n",
       " Viver i Serrateix  Total                         0.0        0.0        0.0   \n",
       " Xerta              Homes                         0.0        0.0        1.0   \n",
       "                    Dones                         0.0        1.0        0.0   \n",
       "                    Total                         0.0        1.0        1.0   \n",
       "NaN                NaN                            NaN        NaN        NaN   \n",
       "\n",
       "                           Ceuta i Melilla  Estranger  \n",
       "Municipi           Sexe                                \n",
       " Viver i Serrateix  Total              0.0        2.0  \n",
       " Xerta              Homes              0.0       44.0  \n",
       "                    Dones              0.0       49.0  \n",
       "                    Total              0.0       93.0  \n",
       "NaN                NaN                 NaN        NaN  \n",
       "\n",
       "[5 rows x 24 columns]"
      ]
     },
     "execution_count": 43,
     "metadata": {},
     "output_type": "execute_result"
    }
   ],
   "source": [
    "population_pob.tail(5)"
   ]
  },
  {
   "cell_type": "code",
   "execution_count": 44,
   "metadata": {},
   "outputs": [
    {
     "data": {
      "text/plain": [
       "24"
      ]
     },
     "execution_count": 44,
     "metadata": {},
     "output_type": "execute_result"
    }
   ],
   "source": [
    "population_pob.isnull().sum().sum()"
   ]
  },
  {
   "cell_type": "markdown",
   "metadata": {},
   "source": [
    "They can be dropped like this:"
   ]
  },
  {
   "cell_type": "code",
   "execution_count": 45,
   "metadata": {},
   "outputs": [],
   "source": [
    "population_pob = population_pob.dropna()"
   ]
  },
  {
   "cell_type": "code",
   "execution_count": 46,
   "metadata": {},
   "outputs": [
    {
     "data": {
      "text/plain": [
       "0"
      ]
     },
     "execution_count": 46,
     "metadata": {},
     "output_type": "execute_result"
    }
   ],
   "source": [
    "population_pob.isnull().sum().sum()"
   ]
  },
  {
   "cell_type": "markdown",
   "metadata": {},
   "source": [
    "Now the subset of Olot's population is taken:"
   ]
  },
  {
   "cell_type": "code",
   "execution_count": 47,
   "metadata": {},
   "outputs": [],
   "source": [
    "population_pob_olot = population_pob.loc[' Olot', :]\n",
    "\n",
    "index = pd.Index(['Men', 'Women', 'Total'])\n",
    "population_pob_olot = population_pob_olot.set_index(index)"
   ]
  },
  {
   "cell_type": "code",
   "execution_count": 48,
   "metadata": {},
   "outputs": [],
   "source": [
    "population_pob_olot = population_pob_olot.T"
   ]
  },
  {
   "cell_type": "code",
   "execution_count": 49,
   "metadata": {},
   "outputs": [],
   "source": [
    "general = population_pob_olot.loc[['Catalunya', \"Resta d'Espanya\", 'Estranger']]"
   ]
  },
  {
   "cell_type": "code",
   "execution_count": 50,
   "metadata": {},
   "outputs": [
    {
     "data": {
      "image/png": "[encoded data removed]",
      "text/plain": [
       "<Figure size 504x504 with 1 Axes>"
      ]
     },
     "metadata": {},
     "output_type": "display_data"
    }
   ],
   "source": [
    "general.plot.bar(figsize=(7, 7), color=('blue', 'red', 'orange'), edgecolor='black')\n",
    "\n",
    "plt.title('Population of Olot (2018)')\n",
    "plt.xlabel('Place of birth')\n",
    "\n",
    "plt.xticks(range(3), ['Catalonia', 'Spain', 'Abroad'], rotation=0)\n",
    "\n",
    "plt.grid()\n",
    "plt.show()"
   ]
  },
  {
   "cell_type": "code",
   "execution_count": null,
   "metadata": {},
   "outputs": [],
   "source": []
  },
  {
   "cell_type": "code",
   "execution_count": null,
   "metadata": {},
   "outputs": [],
   "source": []
  },
  {
   "cell_type": "code",
   "execution_count": null,
   "metadata": {},
   "outputs": [],
   "source": []
  },
  {
   "cell_type": "code",
   "execution_count": null,
   "metadata": {},
   "outputs": [],
   "source": []
  },
  {
   "cell_type": "code",
   "execution_count": null,
   "metadata": {},
   "outputs": [],
   "source": []
  },
  {
   "cell_type": "code",
   "execution_count": null,
   "metadata": {},
   "outputs": [],
   "source": []
  },
  {
   "cell_type": "code",
   "execution_count": null,
   "metadata": {},
   "outputs": [],
   "source": []
  },
  {
   "cell_type": "code",
   "execution_count": null,
   "metadata": {},
   "outputs": [],
   "source": []
  },
  {
   "cell_type": "code",
   "execution_count": null,
   "metadata": {},
   "outputs": [],
   "source": []
  },
  {
   "cell_type": "code",
   "execution_count": null,
   "metadata": {},
   "outputs": [],
   "source": []
  },
  {
   "cell_type": "code",
   "execution_count": null,
   "metadata": {},
   "outputs": [],
   "source": []
  },
  {
   "cell_type": "code",
   "execution_count": null,
   "metadata": {},
   "outputs": [],
   "source": []
  },
  {
   "cell_type": "code",
   "execution_count": null,
   "metadata": {},
   "outputs": [],
   "source": []
  },
  {
   "cell_type": "code",
   "execution_count": null,
   "metadata": {},
   "outputs": [],
   "source": []
  },
  {
   "cell_type": "code",
   "execution_count": null,
   "metadata": {},
   "outputs": [],
   "source": []
  },
  {
   "cell_type": "code",
   "execution_count": null,
   "metadata": {},
   "outputs": [],
   "source": []
  },
  {
   "cell_type": "markdown",
   "metadata": {},
   "source": [
    "# Figaró!!!"
   ]
  },
  {
   "cell_type": "code",
   "execution_count": 51,
   "metadata": {},
   "outputs": [],
   "source": [
    "population_1yr_figaro = population_1yr.loc[' Figaró-Montmany', :]\n",
    "population_1yr_figaro = population_1yr_figaro.loc[' De 0 anys':' De 100 anys i més']"
   ]
  },
  {
   "cell_type": "code",
   "execution_count": 52,
   "metadata": {
    "scrolled": false
   },
   "outputs": [
    {
     "data": {
      "text/plain": [
       "Homes     9.0\n",
       "Dones     6.0\n",
       "Total    15.0\n",
       "Name:  De 55 anys, dtype: float64"
      ]
     },
     "execution_count": 52,
     "metadata": {},
     "output_type": "execute_result"
    }
   ],
   "source": [
    "population_1yr_figaro.loc[' De 55 anys']"
   ]
  },
  {
   "cell_type": "code",
   "execution_count": 53,
   "metadata": {},
   "outputs": [
    {
     "data": {
      "image/png": "[encoded data removed]",
      "text/plain": [
       "<Figure size 432x288 with 1 Axes>"
      ]
     },
     "metadata": {},
     "output_type": "display_data"
    }
   ],
   "source": [
    "population_1yr_figaro['Homes'].plot(color='blue', drawstyle='steps-mid', label='Homes')\n",
    "population_1yr_figaro['Dones'].plot(color='red', drawstyle='steps-mid', label='Dones')\n",
    "plt.title('Població de Figaró-Montmany (2018)')\n",
    "plt.xlabel('Edat (anys)')\n",
    "plt.legend()\n",
    "plt.show()"
   ]
  },
  {
   "cell_type": "code",
   "execution_count": 54,
   "metadata": {},
   "outputs": [],
   "source": [
    "population_1yr_figaro['Homes'] = population_1yr_figaro['Homes'].apply(lambda x: -x)"
   ]
  },
  {
   "cell_type": "code",
   "execution_count": 55,
   "metadata": {
    "scrolled": false
   },
   "outputs": [
    {
     "data": {
      "image/png": "[encoded data removed]",
      "text/plain": [
       "<Figure size 432x288 with 1 Axes>"
      ]
     },
     "metadata": {},
     "output_type": "display_data"
    }
   ],
   "source": [
    "\n",
    "\n",
    "population_1yr_figaro['Homes'].plot.barh(color='blue', label='Homes')\n",
    "population_1yr_figaro['Dones'].plot.barh(color='red', label='Dones')\n",
    "plt.title('Població de Figaró-Montmany (2018)')\n",
    "plt.xticks(np.arange(-20, 21, 2), np.abs(np.arange(-20, 21, 2)))\n",
    "plt.yticks(np.arange(0, 101, 10), np.arange(0, 101, 10))\n",
    "plt.legend()\n",
    "plt.savefig('figaro.png')\n",
    "plt.show()"
   ]
  }
 ],
 "metadata": {
  "kernelspec": {
   "display_name": "Python 3",
   "language": "python",
   "name": "python3"
  },
  "language_info": {
   "codemirror_mode": {
    "name": "ipython",
    "version": 3
   },
   "file_extension": ".py",
   "mimetype": "text/x-python",
   "name": "python",
   "nbconvert_exporter": "python",
   "pygments_lexer": "ipython3",
   "version": "3.6.5"
  }
 },
 "nbformat": 4,
 "nbformat_minor": 2
}
